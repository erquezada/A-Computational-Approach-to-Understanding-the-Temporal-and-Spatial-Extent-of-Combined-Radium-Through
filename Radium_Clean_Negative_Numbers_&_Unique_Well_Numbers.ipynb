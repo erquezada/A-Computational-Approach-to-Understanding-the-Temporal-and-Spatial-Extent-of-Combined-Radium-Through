{
  "cells": [
    {
      "cell_type": "markdown",
      "source": [
        "# Program Execution:"
      ],
      "metadata": {
        "id": "4yUphB1baTSD"
      }
    },
    {
      "cell_type": "markdown",
      "source": [
        "\n",
        "To simplify the process of uploading files, Google Colab provides a built-in module called files\n",
        "\n",
        "To get started, follow these steps:\n",
        "\n",
        "1. Open your Google Colab notebook You can upload files with ease. Here's an example of how to upload a file using the uploaded object:\n",
        "\n",
        "    a) Hover over the [ ] symbol in a coding cell, this will bring up a \"play\" buttion.\n",
        "\n",
        "    b) Select the play button\n",
        "\n",
        "  This will cause a file picker dialog box to appear, allowing you to choose the file you want to upload.\n",
        "\n",
        "2. Select the desired file from your local machine, and it will be uploaded to your Colab environment.\n",
        "3. After uploading the file, the uploaded object will contain the uploaded file's information, such as the file name and its content. You can then perform further processing, analysis, or visualization on the uploaded file within your Colab notebook.\n",
        "\n",
        "**Please note that the uploaded file remains available only for the current Colab session. If you restart or disconnect from the session, you'll need to re-upload the file. Therefore, it's recommended to include the file upload step as part of your notebook's initialization or whenever you need to work with specific files**\n",
        "\n"
      ],
      "metadata": {
        "id": "47ddOCbGGXNE"
      }
    },
    {
      "cell_type": "code",
      "execution_count": null,
      "metadata": {
        "colab": {
          "base_uri": "https://localhost:8080/",
          "height": 74
        },
        "id": "Y8czWDYgm4ZZ",
        "outputId": "0dc80336-796a-41d4-de99-0d5cd627622d"
      },
      "outputs": [
        {
          "output_type": "display_data",
          "data": {
            "text/plain": [
              "<IPython.core.display.HTML object>"
            ],
            "text/html": [
              "\n",
              "     <input type=\"file\" id=\"files-578b31d5-1593-47ce-82f8-0814ac057661\" name=\"files[]\" multiple disabled\n",
              "        style=\"border:none\" />\n",
              "     <output id=\"result-578b31d5-1593-47ce-82f8-0814ac057661\">\n",
              "      Upload widget is only available when the cell has been executed in the\n",
              "      current browser session. Please rerun this cell to enable.\n",
              "      </output>\n",
              "      <script>// Copyright 2017 Google LLC\n",
              "//\n",
              "// Licensed under the Apache License, Version 2.0 (the \"License\");\n",
              "// you may not use this file except in compliance with the License.\n",
              "// You may obtain a copy of the License at\n",
              "//\n",
              "//      http://www.apache.org/licenses/LICENSE-2.0\n",
              "//\n",
              "// Unless required by applicable law or agreed to in writing, software\n",
              "// distributed under the License is distributed on an \"AS IS\" BASIS,\n",
              "// WITHOUT WARRANTIES OR CONDITIONS OF ANY KIND, either express or implied.\n",
              "// See the License for the specific language governing permissions and\n",
              "// limitations under the License.\n",
              "\n",
              "/**\n",
              " * @fileoverview Helpers for google.colab Python module.\n",
              " */\n",
              "(function(scope) {\n",
              "function span(text, styleAttributes = {}) {\n",
              "  const element = document.createElement('span');\n",
              "  element.textContent = text;\n",
              "  for (const key of Object.keys(styleAttributes)) {\n",
              "    element.style[key] = styleAttributes[key];\n",
              "  }\n",
              "  return element;\n",
              "}\n",
              "\n",
              "// Max number of bytes which will be uploaded at a time.\n",
              "const MAX_PAYLOAD_SIZE = 100 * 1024;\n",
              "\n",
              "function _uploadFiles(inputId, outputId) {\n",
              "  const steps = uploadFilesStep(inputId, outputId);\n",
              "  const outputElement = document.getElementById(outputId);\n",
              "  // Cache steps on the outputElement to make it available for the next call\n",
              "  // to uploadFilesContinue from Python.\n",
              "  outputElement.steps = steps;\n",
              "\n",
              "  return _uploadFilesContinue(outputId);\n",
              "}\n",
              "\n",
              "// This is roughly an async generator (not supported in the browser yet),\n",
              "// where there are multiple asynchronous steps and the Python side is going\n",
              "// to poll for completion of each step.\n",
              "// This uses a Promise to block the python side on completion of each step,\n",
              "// then passes the result of the previous step as the input to the next step.\n",
              "function _uploadFilesContinue(outputId) {\n",
              "  const outputElement = document.getElementById(outputId);\n",
              "  const steps = outputElement.steps;\n",
              "\n",
              "  const next = steps.next(outputElement.lastPromiseValue);\n",
              "  return Promise.resolve(next.value.promise).then((value) => {\n",
              "    // Cache the last promise value to make it available to the next\n",
              "    // step of the generator.\n",
              "    outputElement.lastPromiseValue = value;\n",
              "    return next.value.response;\n",
              "  });\n",
              "}\n",
              "\n",
              "/**\n",
              " * Generator function which is called between each async step of the upload\n",
              " * process.\n",
              " * @param {string} inputId Element ID of the input file picker element.\n",
              " * @param {string} outputId Element ID of the output display.\n",
              " * @return {!Iterable<!Object>} Iterable of next steps.\n",
              " */\n",
              "function* uploadFilesStep(inputId, outputId) {\n",
              "  const inputElement = document.getElementById(inputId);\n",
              "  inputElement.disabled = false;\n",
              "\n",
              "  const outputElement = document.getElementById(outputId);\n",
              "  outputElement.innerHTML = '';\n",
              "\n",
              "  const pickedPromise = new Promise((resolve) => {\n",
              "    inputElement.addEventListener('change', (e) => {\n",
              "      resolve(e.target.files);\n",
              "    });\n",
              "  });\n",
              "\n",
              "  const cancel = document.createElement('button');\n",
              "  inputElement.parentElement.appendChild(cancel);\n",
              "  cancel.textContent = 'Cancel upload';\n",
              "  const cancelPromise = new Promise((resolve) => {\n",
              "    cancel.onclick = () => {\n",
              "      resolve(null);\n",
              "    };\n",
              "  });\n",
              "\n",
              "  // Wait for the user to pick the files.\n",
              "  const files = yield {\n",
              "    promise: Promise.race([pickedPromise, cancelPromise]),\n",
              "    response: {\n",
              "      action: 'starting',\n",
              "    }\n",
              "  };\n",
              "\n",
              "  cancel.remove();\n",
              "\n",
              "  // Disable the input element since further picks are not allowed.\n",
              "  inputElement.disabled = true;\n",
              "\n",
              "  if (!files) {\n",
              "    return {\n",
              "      response: {\n",
              "        action: 'complete',\n",
              "      }\n",
              "    };\n",
              "  }\n",
              "\n",
              "  for (const file of files) {\n",
              "    const li = document.createElement('li');\n",
              "    li.append(span(file.name, {fontWeight: 'bold'}));\n",
              "    li.append(span(\n",
              "        `(${file.type || 'n/a'}) - ${file.size} bytes, ` +\n",
              "        `last modified: ${\n",
              "            file.lastModifiedDate ? file.lastModifiedDate.toLocaleDateString() :\n",
              "                                    'n/a'} - `));\n",
              "    const percent = span('0% done');\n",
              "    li.appendChild(percent);\n",
              "\n",
              "    outputElement.appendChild(li);\n",
              "\n",
              "    const fileDataPromise = new Promise((resolve) => {\n",
              "      const reader = new FileReader();\n",
              "      reader.onload = (e) => {\n",
              "        resolve(e.target.result);\n",
              "      };\n",
              "      reader.readAsArrayBuffer(file);\n",
              "    });\n",
              "    // Wait for the data to be ready.\n",
              "    let fileData = yield {\n",
              "      promise: fileDataPromise,\n",
              "      response: {\n",
              "        action: 'continue',\n",
              "      }\n",
              "    };\n",
              "\n",
              "    // Use a chunked sending to avoid message size limits. See b/62115660.\n",
              "    let position = 0;\n",
              "    do {\n",
              "      const length = Math.min(fileData.byteLength - position, MAX_PAYLOAD_SIZE);\n",
              "      const chunk = new Uint8Array(fileData, position, length);\n",
              "      position += length;\n",
              "\n",
              "      const base64 = btoa(String.fromCharCode.apply(null, chunk));\n",
              "      yield {\n",
              "        response: {\n",
              "          action: 'append',\n",
              "          file: file.name,\n",
              "          data: base64,\n",
              "        },\n",
              "      };\n",
              "\n",
              "      let percentDone = fileData.byteLength === 0 ?\n",
              "          100 :\n",
              "          Math.round((position / fileData.byteLength) * 100);\n",
              "      percent.textContent = `${percentDone}% done`;\n",
              "\n",
              "    } while (position < fileData.byteLength);\n",
              "  }\n",
              "\n",
              "  // All done.\n",
              "  yield {\n",
              "    response: {\n",
              "      action: 'complete',\n",
              "    }\n",
              "  };\n",
              "}\n",
              "\n",
              "scope.google = scope.google || {};\n",
              "scope.google.colab = scope.google.colab || {};\n",
              "scope.google.colab._files = {\n",
              "  _uploadFiles,\n",
              "  _uploadFilesContinue,\n",
              "};\n",
              "})(self);\n",
              "</script> "
            ]
          },
          "metadata": {}
        },
        {
          "output_type": "stream",
          "name": "stdout",
          "text": [
            "Saving Ra Contamination in Public Water Supplies.xlsx to Ra Contamination in Public Water Supplies.xlsx\n"
          ]
        }
      ],
      "source": [
        "from google.colab import files\n",
        "uploaded = files.upload()"
      ]
    },
    {
      "cell_type": "code",
      "source": [
        "import pandas as pd\n",
        "# Function to process and display the uploaded file\n",
        "def process_file(file):\n",
        "    # Read the uploaded file into a DataFrame\n",
        "    df = pd.read_excel(file)\n",
        "\n",
        "    # Perform data processing or analysis on the DataFrame\n",
        "    # ...\n",
        "    print(df)\n"
      ],
      "metadata": {
        "id": "AccjaHouyXo8"
      },
      "execution_count": null,
      "outputs": []
    },
    {
      "cell_type": "markdown",
      "source": [
        "**Excel Data Reader:**\n",
        "\n",
        "This program defines a class called ExcelDataReader, which contains several methods for reading and processing Excel data.\n",
        "\n",
        "To run this program hit the \"play\" button, and the program will execute and generate a new sheet with the desired output.\n",
        "\n",
        "***For an in depth, detailed overview please scroll down one cell below***\n",
        "\n",
        "\n",
        "\n",
        "\n"
      ],
      "metadata": {
        "id": "L7pUwF2QLOIv"
      }
    },
    {
      "cell_type": "code",
      "source": [
        "class ExcelDataReader:\n",
        "    def read_excel_file(self, file_path, sheet_name, column_name):\n",
        "        df = pd.read_excel(file_path, sheet_name=sheet_name)\n",
        "        specific_column = df[column_name]\n",
        "        df.index = df.index + 1\n",
        "        df.reset_index(drop=True, inplace=True)\n",
        "        return specific_column\n",
        "\n",
        "def process_excel_file(file_path, sheet_name, column_name):\n",
        "    df = pd.read_excel(file_path, sheet_name=sheet_name)\n",
        "\n",
        "    # Delete rows with negative values in the specified column\n",
        "    df = df[df[column_name] >= 0]\n",
        "\n",
        "    # Delete cells with an empty well number\n",
        "    df = df.dropna(subset=[well_number_column])\n",
        "\n",
        "    # Reset the index\n",
        "    df.reset_index(drop=True, inplace=True)\n",
        "\n",
        "    return df\n",
        "\n",
        "def process_unique_well_numbers(df, column_name):\n",
        "    unique_well_numbers = df[column_name].unique()\n",
        "    # Perform further processing or calculations on the unique well numbers\n",
        "    # ...\n",
        "\n",
        "    return unique_well_numbers\n",
        "\n",
        "# Specify the file path, sheet name, and column name\n",
        "file_path = 'Ra Contamination in Public Water Supplies.xlsx'\n",
        "sheet_name = 'All wells Ra DNR'\n",
        "column_name = 'Measured Amount'\n",
        "well_number_column = 'WI Unique Well No'\n",
        "\n",
        "# Create an instance of ExcelDataReader\n",
        "data_reader = ExcelDataReader()\n",
        "\n",
        "# Call the read_excel_file method and store the returned column in a variable\n",
        "column_data = data_reader.read_excel_file(file_path, sheet_name, column_name)\n",
        "\n",
        "# Print the column data\n",
        "print(column_data)\n",
        "\n",
        "# Process the Excel file and obtain the updated DataFrame\n",
        "processed_data = process_excel_file(file_path, sheet_name, column_name)\n",
        "\n",
        "# Save the updated DataFrame to a new Excel file\n",
        "output_file_path = 'Updated_Data.xlsx'\n",
        "processed_data.to_excel(output_file_path, index=False)\n",
        "\n",
        "print(\"\\nNew Excel file has been generated:\", output_file_path)\n",
        "\n",
        "# Process the unique well numbers\n",
        "unique_wells = process_unique_well_numbers(processed_data, well_number_column)\n",
        "print(\"\\nUnique Well Numbers:\")\n",
        "print(unique_wells)"
      ],
      "metadata": {
        "colab": {
          "base_uri": "https://localhost:8080/"
        },
        "id": "RgkM2Gccyhnw",
        "outputId": "95c15d57-7f66-484b-f44e-d4f6984b4edf"
      },
      "execution_count": null,
      "outputs": [
        {
          "output_type": "stream",
          "name": "stdout",
          "text": [
            "0       0.000\n",
            "1       8.800\n",
            "2       0.000\n",
            "3       4.280\n",
            "4       5.700\n",
            "        ...  \n",
            "964     1.972\n",
            "965     6.830\n",
            "966     4.640\n",
            "967    12.990\n",
            "968       NaN\n",
            "Name: Measured Amount, Length: 969, dtype: float64\n",
            "\n",
            "New Excel file has been generated: Updated_Data.xlsx\n",
            "\n",
            "Unique Well Numbers:\n",
            "['AX367' 'HJ196' 'ES251' 'AV682' 'BF732' 'HI366' 'HN169' 'FP839' 'JA221'\n",
            " 'IE858' 'EM235' 'IE266' 'KR925' 'FX419' 'EM264' 'KL362' 'KU372' 'AD930'\n",
            " 'LJ862' 'KS768' 'LW772' 'KW617' 'MK408' 'KW598' 'HJ197' 'EQ941' 'MD170'\n",
            " 'ME484' 'KY566' 'LW428' 'MG177' 'KY574' 'KY572' 'NA552' 'MK422' 'MK423'\n",
            " 'JD054' 'OH469' 'BF194' 'BF197' 'BF195' 'BF190' 'BF196' 'BF192' 'LK033'\n",
            " 'NG591' 'BF189' 'BF191' 'BF193' 'MZ195' 'NV854' 'MK441' 'AR350' 'MZ701'\n",
            " 'BF803' 'BF805' 'YP877' 'BF801' 'BF799' 'BF800' 'BF797' 'NY862' 'MM157'\n",
            " 'MO407' 'NP587' 'NY868' 'OG942' 'NW186' 'RX268' 'MK471' 'RW901' 'NY871'\n",
            " 'QK217' 'RX226' 'BF206' 'BF207' 'BF209' 'BF208' 'FD551' 'FX375' 'FX374'\n",
            " 'BO773' 'FX376' 'RY206' 'MG104' 'MZ718' 'AT090' 'RA584' 'BG440' 'BG507'\n",
            " 'BG508' 'BG509' 'RG700' 'SA144' 'FX377' 'RG653' 'SA183' 'SA190' 'TQ116'\n",
            " 'SA852' 'TP746' 'RE564' 'RT720' 'BG746' 'TP817' 'TQ446' 'NV231' 'IE861'\n",
            " 'RV162' 'RV159' 'RG655' 'EQ931' 'SI612' 'SK038' 'RG654' 'RG657' 'SH979'\n",
            " 'SB744' 'BH359' 'TQ323' 'SS417' 'TQ326' 'TQ325' 'RG658' 'FX351' 'JD377'\n",
            " 'TQ327' 'SQ102' 'SR722' 'RL255' 'TT956' 'TT889' 'RL256' 'AY338' 'BH178'\n",
            " 'BH177' 'TT973' 'NV230' 'TT975' 'BF611' 'BF612' 'HJ114' 'TV908' 'VL269'\n",
            " 'RG693' 'VL002' 'VL851' 'TJ178' 'VL960' 'VL966' 'SZ294' 'VM098' 'VM097'\n",
            " 'SO619' 'VL852' 'SO642' 'HJ128' 'YM835' 'VL965' 'WH281' 'TO501' 'WI033'\n",
            " 'NV234' 'SB750' 'TO502' 'WH931' 'WH967' 'TV642' 'TM595' 'TT957' 'SO618'\n",
            " 'BH246' 'WI545' 'WO953' 'UA955' 'NZ643' 'CO567' 'BH375' 'BH376' 'UA956'\n",
            " 'TK529' 'SB777' 'BH421' 'CL048' 'WH972' 'BH380' 'BH381' 'WJ164' 'WJ889'\n",
            " 'NV236' 'PG968' 'WJ286' 'UB015' 'WL768' 'WK067' 'BH443' 'WJ283' 'WJ890'\n",
            " 'NQ265' 'NV239' 'VX755' 'WJ282' 'OX197' 'WK843' 'WJ281' 'WJ284' 'WK743'\n",
            " 'BA125' 'WK947' 'SB776' 'WL476' 'BP229' 'WJ900' 'UJ259' 'WK851' 'BG579'\n",
            " 'AY365' 'MK472' 'BG811' 'BG810' 'WK637' 'BH436' 'NV242' 'BF187' 'BF185'\n",
            " 'BF186' 'BH543' 'BH544' 'NV243' 'EM276' 'SO621' 'BG094' 'CS309' 'BG096'\n",
            " 'BG097' 'UO874' 'WL771' 'VK897' 'BH395' 'UL988' 'UJ267' 'WL772' 'TJ210'\n",
            " 'WJ908' 'WM410' 'WL581' 'VX770' 'WL773' 'TU514' 'WM753' 'WL775' 'VX766'\n",
            " 'WL776' 'UO912' 'WN837' 'WJ910' 'BF214' 'WN982' 'SO622' 'BE822' 'BO307'\n",
            " 'BO040' 'WO236' 'UT722' 'BO317' 'RL259' 'UT721' 'WO060' 'RL260' 'UY738'\n",
            " 'UY773' 'UY766' 'RB912' 'BP725' 'WO954' 'NZ392' 'WP527' 'SB757' 'VB166'\n",
            " 'WO956' 'VB167' 'UV413' 'VB165' 'VB164' 'WP561' 'TU527' 'WP601' 'WP351'\n",
            " 'WK858' 'UV414' 'BG831' 'BG072' 'YE608' 'VE250' 'VD077' 'YE971' 'WK859'\n",
            " 'WR551' 'VE248' 'ZR543' 'BF880' 'YF448' 'YG024' 'BH429' 'YK998' 'YG656'\n",
            " 'YQ303' 'BF165' 'WQ168' 'AY325' 'BH156' 'YH168' 'WO962' 'DD846' 'BP264'\n",
            " 'AJ774' 'WR564' 'WW365' 'WW364' 'WW467' 'YI080' 'YG117' 'BO679' 'YG586'\n",
            " 'YI504' 'UY873' 'YG119' 'XB584' 'XB573' 'BG195' 'XA110' 'YJ033' 'WZ619'\n",
            " 'AX007' 'BG738' 'YJ334' 'YJ228' 'VL961' 'BG346' 'RL254' 'XB123' 'BF215'\n",
            " 'AC715' 'XI338' 'XE865' 'YJ796' 'BF624' 'YG599' 'XF679' 'XF676' 'YK040'\n",
            " 'YJ234' 'YK041' 'XI084' 'VK707' 'WQ175' 'YJ235' 'BG808' 'BG809' 'DW152'\n",
            " 'BG429' 'BG453' 'BG454' 'BG341' 'BF619' 'XB126' 'HN161' 'BF211' 'XG741'\n",
            " 'BF188' 'BF601' 'CM075' 'BH424' 'LT992' 'AT099' 'TU539' 'BG194' 'FH501'\n",
            " 'BF216' 'BF204' 'BF201' 'KW593' 'BP724' 'BH049' 'BF963' 'AT091' 'IX101'\n",
            " 'BG191' 'BG147' 'YK996' 'YK995' 'YM053' 'YM040' 'BF229' 'FX418' 'GT011'\n",
            " 'BF983' 'FX370' 'XR085' 'YM833' 'FD768' 'XT367' 'YN611' 'YO929' 'EJ765'\n",
            " 'YN107' 'YO934' 'WG311' 'BF257' 'CO448' 'BH434' 'BF635' 'AY377' 'BF633'\n",
            " 'YJ236' 'BF806' 'BF804' 'BF798' 'YM830' 'YO935' 'NY875' 'BG505' 'BF796'\n",
            " 'BF802' 'AY379' 'AY378' 'YQ304' 'YO563' 'YQ302' 'BF808' 'BF587' 'TU107'\n",
            " 'VX783' 'BF928' 'AT094' 'SO641' 'BG578' 'BG576' 'BG574' 'BG575' 'YQ736'\n",
            " 'BH170' 'BH171' 'HW895' 'DG402' 'BG581' 'BG580' 'VX784' 'HR251' 'SQ101'\n",
            " 'BG976' 'YG122' 'BF921' 'XZ703' 'VX785' 'YP879' 'YP891' 'ZR549' 'YQ307'\n",
            " 'XM141' 'YQ306' 'YT171' 'ZT440' 'YQ310' 'YU021' 'YC301' 'AC338' 'YN816'\n",
            " 'BG967' 'YX859' 'ZR344' 'YV373' 'YV452' 'NV272' 'YV152']\n"
          ]
        }
      ]
    },
    {
      "cell_type": "markdown",
      "source": [
        "# Code Walkthrough:\n",
        "\n"
      ],
      "metadata": {
        "id": "W62q9tCCL962"
      }
    },
    {
      "cell_type": "markdown",
      "source": [
        "\n",
        "The read_excel_file method reads an Excel file from the specified file_path and extracts a specific column (column_name) from a specified sheet (sheet_name). It returns the values in that column."
      ],
      "metadata": {
        "id": "6nB0832Xa5WL"
      }
    },
    {
      "cell_type": "code",
      "source": [
        "    #def read_excel_file(self, file_path, sheet_name, column_name):\n",
        "    #df = pd.read_excel(file_path, sheet_name=sheet_name)\n",
        "    #specific_column = df[column_name]\n",
        "    #df.index = df.index + 1\n",
        "    #df.reset_index(drop=True, inplace=True)\n",
        "    #return specific_column"
      ],
      "metadata": {
        "id": "RRbPHDpELsxo"
      },
      "execution_count": null,
      "outputs": []
    },
    {
      "cell_type": "markdown",
      "source": [
        "The process_excel_file method reads an Excel file from the specified file_path and processes it in several steps:\n"
      ],
      "metadata": {
        "id": "ddGKG2IfMG7Q"
      }
    },
    {
      "cell_type": "markdown",
      "source": [
        "1. It filters out rows with negative values in the specified column_name.\n",
        "It removes cells with empty values in the well_number_column.\n",
        "\n",
        "2. It resets the index of the DataFrame to ensure consecutive row numbering.\n",
        "\n",
        "The method then returns the processed DataFrame."
      ],
      "metadata": {
        "id": "D8xt4hgAMfFc"
      }
    },
    {
      "cell_type": "code",
      "source": [
        "    #def process_excel_file(self, file_path, sheet_name, column_name, well_number_column):\n",
        "    #df = pd.read_excel(file_path, sheet_name=sheet_name)\n",
        "\n",
        "    #Delete rows with negative values in the specified column\n",
        "    #df = df[df[column_name] >= 0]\n",
        "\n",
        "    #Delete cells with an empty well number\n",
        "    #df = df.dropna(subset=[well_number_column])\n",
        "\n",
        "    #Reset the index\n",
        "    #df.reset_index(drop=True, inplace=True)\n",
        "\n",
        "    #return df"
      ],
      "metadata": {
        "id": "zA76W-MjMFh8"
      },
      "execution_count": null,
      "outputs": []
    },
    {
      "cell_type": "markdown",
      "source": [
        "The process_unique_well_numbers method takes the DataFrame and a column_name as inputs. It extracts the unique values from the specified column and performs further processing or calculations on those unique well numbers.\n"
      ],
      "metadata": {
        "id": "iZZwmJ1sMytA"
      }
    },
    {
      "cell_type": "code",
      "source": [
        "  #def process_unique_well_numbers(self, df, column_name):\n",
        "  #unique_well_numbers = df[column_name].unique()\n",
        "  #return unique_well_numbers"
      ],
      "metadata": {
        "id": "Xlj_yX0UM-Tt"
      },
      "execution_count": null,
      "outputs": []
    },
    {
      "cell_type": "markdown",
      "source": [
        "The code defines variables for the file path, sheet name, and column names to be used in the subsequent steps.\n",
        "\n"
      ],
      "metadata": {
        "id": "Hu0J2SPANk-m"
      }
    },
    {
      "cell_type": "code",
      "source": [
        "# Specify the file path, sheet name, and column name\n",
        "#file_path = 'Ra Contamination in Public Water Supplies.xlsx'\n",
        "#sheet_name = 'All wells Ra DNR'\n",
        "#column_name = 'Measured Amount'\n",
        "#well_number_column = 'WI Unique Well No'\n"
      ],
      "metadata": {
        "id": "JT5RZSP-NrTc"
      },
      "execution_count": null,
      "outputs": []
    },
    {
      "cell_type": "markdown",
      "source": [
        "Call the read_excel_file method and store the returned column in a variable.\n",
        "\n",
        "This data is then printed onto the console for validation purposes.\n"
      ],
      "metadata": {
        "id": "Z-4mZ9SZOoKw"
      }
    },
    {
      "cell_type": "code",
      "source": [
        "#column_data = data_reader.read_excel_file(file_path, sheet_name, column_name)\n",
        "# Print the column data\n",
        "#print(column_data)"
      ],
      "metadata": {
        "id": "x07KYwzAOwFE"
      },
      "execution_count": null,
      "outputs": []
    },
    {
      "cell_type": "markdown",
      "source": [
        "The process_excel_file method is called to process the Excel file. It removes rows with negative values and cells with empty well numbers. The resulting processed DataFrame is stored in the processed_data variable."
      ],
      "metadata": {
        "id": "c-l1ZhXgPd8L"
      }
    },
    {
      "cell_type": "code",
      "source": [
        "# Process the Excel file and obtain the updated DataFrame\n",
        "#processed_data = data_reader.process_excel_file(file_path, sheet_name, column_name, well_number_column)"
      ],
      "metadata": {
        "id": "QXALf0cAPXPf"
      },
      "execution_count": null,
      "outputs": []
    },
    {
      "cell_type": "markdown",
      "source": [
        "The code specifies the output file path and a new sheet name for the processed data.\n",
        "\n",
        "The Excel file is opened using pandas ExcelWriter, then the processed DataFrame is written to a new sheet."
      ],
      "metadata": {
        "id": "UslC7HRpPEv0"
      }
    },
    {
      "cell_type": "code",
      "source": [
        "# Specify the output file path and sheet name for the processed data\n",
        "#output_file_path = \"Ra Contamination in Public Water Supplies.xlsx\"\n",
        "#sheet_name_new = 'Updated_All_wells_Ra_DNR'\n",
        "\n",
        "# Open the Excel file using pandas ExcelWriter\n",
        "#with pd.ExcelWriter(output_file_path, engine='openpyxl', mode='a') as writer:\n",
        "# Write the processed DataFrame to a new sheet\n",
        "#processed_data.to_excel(writer, sheet_name=sheet_name_new, index=False)"
      ],
      "metadata": {
        "id": "dd0SC1YfPnmL"
      },
      "execution_count": null,
      "outputs": []
    },
    {
      "cell_type": "markdown",
      "source": [
        "Finally, a message is printed to indicate that a new Excel sheet has been generated with the processed data."
      ],
      "metadata": {
        "id": "Pa0xm36qP_oj"
      }
    },
    {
      "cell_type": "code",
      "source": [
        "#print(\"\\nNew Excel sheet has been generated:\", output_file_path)"
      ],
      "metadata": {
        "id": "ToYmxygHP-2j"
      },
      "execution_count": null,
      "outputs": []
    },
    {
      "cell_type": "markdown",
      "source": [
        "In summary, the code reads specific columns from an Excel file, performs data processing operations, and generates a new Excel sheet with the processed data."
      ],
      "metadata": {
        "id": "hobT960LQDnh"
      }
    }
  ],
  "metadata": {
    "colab": {
      "provenance": [],
      "collapsed_sections": [
        "4yUphB1baTSD",
        "W62q9tCCL962"
      ]
    },
    "kernelspec": {
      "display_name": "Python 3",
      "name": "python3"
    },
    "language_info": {
      "name": "python"
    }
  },
  "nbformat": 4,
  "nbformat_minor": 0
}